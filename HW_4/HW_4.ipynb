{
 "cells": [
  {
   "cell_type": "markdown",
   "metadata": {},
   "source": [
    "Task_2"
   ]
  },
  {
   "cell_type": "code",
   "execution_count": null,
   "metadata": {},
   "outputs": [],
   "source": [
    "def gcd(a: int, b: int) -> int:\n",
    "\n",
    "    if b == 0:\n",
    "        return a\n",
    "    else:\n",
    "        return gcd(b, a % b)\n",
    "\n",
    "\n",
    "\n",
    "try:\n",
    "    a = int(input(\"Enter the first integer: \"))\n",
    "    b = int(input(\"Enter the second integer: \"))\n",
    "\n",
    "    result = gcd(a, b)\n",
    "    print(f\"The GCD of {a} and {b} is {result}\")\n",
    "\n",
    "except ValueError as e:\n",
    "    print(f\"Error: {e}\")"
   ]
  },
  {
   "cell_type": "markdown",
   "metadata": {},
   "source": [
    "Task_3"
   ]
  },
  {
   "cell_type": "code",
   "execution_count": null,
   "metadata": {},
   "outputs": [],
   "source": [
    "def climb_stairs(n: int) -> int:\n",
    "\n",
    "    if n < 0:\n",
    "        raise ValueError(\"n must be a non-negative integer\")\n",
    "\n",
    "    if n == 0 or n == 1:\n",
    "        return 1\n",
    "    else:\n",
    "        return climb_stairs(n - 1) + climb_stairs(n - 2)\n",
    "\n",
    "\n",
    "try:\n",
    "    n = int(input(\"Enter the number of stairs: \"))\n",
    "    result = climb_stairs(n)\n",
    "    print(f\"The number of ways to climb {n} stairs is {result}\")\n",
    "except ValueError as e:\n",
    "    print(f\"Error: {e}\")"
   ]
  }
 ],
 "metadata": {
  "kernelspec": {
   "display_name": "Python 3",
   "language": "python",
   "name": "python3"
  },
  "language_info": {
   "codemirror_mode": {
    "name": "ipython",
    "version": 3
   },
   "file_extension": ".py",
   "mimetype": "text/x-python",
   "name": "python",
   "nbconvert_exporter": "python",
   "pygments_lexer": "ipython3",
   "version": "3.11.9"
  }
 },
 "nbformat": 4,
 "nbformat_minor": 2
}
